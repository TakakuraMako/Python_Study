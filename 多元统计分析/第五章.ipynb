{
 "cells": [
  {
   "cell_type": "markdown",
   "metadata": {},
   "source": [
    "# 5.2\n",
    "\n",
    "来自$\\pi_1、\\pi_2$的两个样本\n",
    "$$\n",
    "\\overline{x}_1=\\left(\\begin{matrix}\n",
    "4 \\\\\n",
    "2\n",
    "\\end{matrix}\\right)，\n",
    "\\overline{x}_2=\\left(\\begin{matrix}\n",
    "3 \\\\\n",
    "-1\n",
    "\\end{matrix}\\right)，\n",
    "S_p=\\left(\\begin{matrix}\n",
    "6.5 & 1.1 \\\\\n",
    "1.1 & 8.4\n",
    "\\end{matrix}\\right)\n",
    "$$\n",
    "给出距离判别规则，将$x_0=(2,1)'$分组，假定$\\Sigma_1=\\Sigma_2$\n",
    "\n",
    "因为协方差矩阵相同，可以用距离判别\n",
    "\n",
    "$\\overline{x}=\\frac{1}{2}(\\overline{x}_1+\\overline{x}_2)=(3.5,0.5)'，\\hat{a}=S_{p}^{-1}(\\overline{x}_1-\\overline{x}_2)=(0.096,0.345)'$\n",
    "\n",
    "判别函数为\n",
    "\n",
    "$\\hat{W}(x)=\\hat{a}'(x-\\overline{x})=0.096x_1+0.345x_2-0.509$\n",
    "\n",
    "判别规则为\n",
    "$$\n",
    "\\begin{cases}\n",
    "x \\in \\pi_1 & 0.096x_1+0.345x_2-0.509 \\geq 0 \\\\\n",
    "x \\in \\pi_2 & 0.096x_1+0.345x_2-0.509 \\lt 0\n",
    "\\end{cases}\n",
    "$$\n",
    "\n",
    "而$\\hat{w}(x_0)=0.906 \\times 2 + 0.345 \\times 1 - 0.509 = 0.028 \\gt 0$，所以$x_0 \\in \\pi_1$"
   ]
  },
  {
   "cell_type": "markdown",
   "metadata": {},
   "source": [
    "# 5.3\n",
    "## 考虑误判代价\n",
    "\n",
    "$$\n",
    "\\begin{matrix}\n",
    "l=1 & p_2c(1|2)f_2(x_0) + p_3c(1|3)f_3(x_0)=111 \\\\\n",
    "l=2 & p_1c(2|1)f_1(x_0) + p_3c(2|3)f_3(x_0)=15.56 \\\\\n",
    "l=3 & p_1c(3|1)f_1(x_0) + p_2c(3|2)f_2(x_0)=65.24 \\\\\n",
    "\\end{matrix}\n",
    "$$\n",
    "\n",
    "$l=2$时代价最小，所以将$x_0$判别进$\\pi_2$\n",
    "\n",
    "## 不考虑误判代价\n",
    "\n",
    "$$\n",
    "p_1f_1(x_0)=0.253，p_2f_2(x_0)=0.225，p_3f_3(x_0)=0.210\n",
    "$$\n",
    "\n",
    "判别进$\\pi_1$"
   ]
  },
  {
   "cell_type": "markdown",
   "metadata": {},
   "source": [
    "# 5.4\n",
    "\n",
    "原公式\n",
    "\n",
    "$$\n",
    "\\begin{cases}\n",
    "x_1 \\in \\pi_1 & \\cfrac{f_1(x)}{f_2(x)} \\geq \\cfrac{c(1|2)p_2}{c(2|1)p_1} \\\\\n",
    "x_1 \\in \\pi_2 & \\cfrac{f_1(x)}{f_2(x)} \\lt \\cfrac{c(1|2)p_2}{c(2|1)p_1}\n",
    "\\end{cases}\n",
    "$$\n",
    "\n",
    "因为$f_i(x)=(2 \\pi)^{-p/2}|\\Sigma_i|^{-1/2}exp[-\\frac{1}{2}d^2(x,\\pi_i)]$，$d^2(x,\\pi_i)=(x-\\mu_i)'\\Sigma_i^{-1}(x-\\mu_i)$\n",
    "\n",
    "所以\n",
    "$$\n",
    "\\cfrac{f_1(x)}{f_2(x)}=\\cfrac{|\\Sigma_1|^{-1/2}}{|\\Sigma_2|^{-1/2}}exp\\{ -\\frac{1}{2}[d^2(x,\\pi_1)-d^2(x,\\pi_2)] \\}\n",
    "$$\n",
    "\n",
    "则有\n",
    "\n",
    "$$\n",
    "\\begin{cases}\n",
    "x \\in \\pi_1 & \\cfrac{|\\Sigma_1|^{-1/2}}{|\\Sigma_2|^{-1/2}}exp\\{ -\\frac{1}{2}[d^2(x,\\pi_1)-d^2(x,\\pi_2)] \\} \\geq \\cfrac{c(1|2)p_2}{c(2|1)p_1} \\\\\n",
    "x \\in \\pi_2 & \\cfrac{|\\Sigma_1|^{-1/2}}{|\\Sigma_2|^{-1/2}}exp\\{ -\\frac{1}{2}[d^2(x,\\pi_1)-d^2(x,\\pi_2)] \\} \\lt \\cfrac{c(1|2)p_2}{c(2|1)p_1}\n",
    "\\end{cases}\n",
    "$$\n",
    "\n",
    "即(5.3.19)\n",
    "\n",
    "$$\n",
    "\\begin{cases}\n",
    "x \\in \\pi_1 & d^2(x,\\pi_1)-d^2(x,\\pi_2) \\leq 2ln \\left[\\cfrac{c(2|1)p_1|\\Sigma_2|^{1/2}}{c(1|2)p_2|\\Sigma_1|^{1/2}}\\right] \\\\\n",
    "\\\\\n",
    "x \\in \\pi_2 & d^2(x,\\pi_1)-d^2(x,\\pi_2) \\gt 2ln \\left[\\cfrac{c(2|1)p_1|\\Sigma_2|^{1/2}}{c(1|2)p_2|\\Sigma_1|^{1/2}}\\right]\n",
    "\\end{cases}\n",
    "$$\n",
    "\n",
    "若$\\Sigma_1=\\Sigma_2$，则$d^2(x,\\pi_1)-d^2(x,\\pi_2)=-2a'(x-\\overline{\\mu})$，可得(5.3.18)\n",
    "\n",
    "$$\n",
    "\\begin{cases}\n",
    "x \\in \\pi_1 & a'(x-\\overline{\\mu}) \\geq ln \\left[\\cfrac{c(1|2)p_2}{c(2|1)p_1}\\right] \\\\\n",
    "\\\\\n",
    "x \\in \\pi_2 & a'(x-\\overline{\\mu}) \\lt ln \\left[\\cfrac{c(1|2)p_2}{c(2|1)p_1}\\right]\n",
    "\\end{cases}\n",
    "$$"
   ]
  },
  {
   "cell_type": "markdown",
   "metadata": {},
   "source": [
    "# 5.5\n",
    "## (1)\n",
    "\n",
    "因协方差相等，有多组数据，可以用线性判别\n",
    "\n",
    "$$\n",
    "\\begin{cases}\n",
    "x \\in \\pi_1 & I_1'x+c_1 \\geq I_2'x+c_2 \\\\\n",
    "x \\in \\pi_2 & I_1'x+c_1 \\lt I_2'x+c_2\n",
    "\\end{cases}\n",
    "$$\n",
    "\n",
    "$I_i=\\Sigma^{-1}\\mu_i，c_i=-\\cfrac{1}{2}\\mu_i'\\Sigma^{-1}\\mu_i$"
   ]
  },
  {
   "cell_type": "code",
   "execution_count": 1,
   "metadata": {},
   "outputs": [
    {
     "name": "stdout",
     "output_type": "stream",
     "text": [
      "Rain\n",
      "[[7. 3.]\n",
      " [1. 9.]]\n"
     ]
    }
   ],
   "source": [
    "import numpy as np\n",
    "import pandas as pd\n",
    "data_1 = [\n",
    "    [-1.9, 3.2],\n",
    "    [-6.9, 10.4],\n",
    "    [5.2, 2],\n",
    "    [5, 2.5],\n",
    "    [7.3, 0],\n",
    "    [6.8, 12.7],\n",
    "    [0.9, -15.4],\n",
    "    [-12.5, -2.5],\n",
    "    [1.5, 1.3],\n",
    "    [3.8, 6.8]\n",
    "]\n",
    "data_2 = [\n",
    "    [0.2, 6.2],\n",
    "    [-0.1, 7.5],\n",
    "    [0.4, 14.6],\n",
    "    [2.7, 8.3],\n",
    "    [2.1, 0.8],\n",
    "    [-4.6, 4.3],\n",
    "    [-1.7, 10.9],\n",
    "    [-2.6, 13.1],\n",
    "    [2.6, 12.8],\n",
    "    [-2.8, 10]\n",
    "]\n",
    "df_rain = pd.DataFrame(data_1, columns=['X1', 'X2'])\n",
    "df_sunny = pd.DataFrame(data_2, columns=['X1', 'X2'])\n",
    "\n",
    "mu_1 = np.mean(df_rain, axis=0).to_numpy().reshape(-1, 1)\n",
    "mu_2 = np.mean(df_sunny, axis=0).to_numpy().reshape(-1, 1)\n",
    "\n",
    "Sigma_1 = np.cov(df_rain, rowvar=False, ddof=1)\n",
    "Sigma_2 = np.cov(df_sunny, rowvar=False, ddof=1)\n",
    "\n",
    "I_1 = np.dot(np.linalg.inv(Sigma_1), mu_1)\n",
    "I_2 = np.dot(np.linalg.inv(Sigma_2), mu_2)\n",
    "\n",
    "c_1 = -1/2 * np.dot(np.dot(mu_1.T, np.linalg.inv(Sigma_1)), mu_1)\n",
    "c_2 = -1/2 * np.dot(np.dot(mu_2.T, np.linalg.inv(Sigma_2)), mu_2)\n",
    "\n",
    "X_0 = np.array([[0.6], [3.0]])\n",
    "\n",
    "if np.dot(I_1.T, X_0) + c_1 >= np.dot(I_2.T, X_0) + c_2:\n",
    "    print(\"Rain\")\n",
    "else:\n",
    "    print(\"Sunny\")\n",
    "\n",
    "# 回代法\n",
    "N = np.zeros([2, 2])\n",
    "for i in range(df_rain.shape[0]):\n",
    "    if np.dot(I_1.T, df_rain.iloc[i, :]) + c_1 >= np.dot(I_2.T, df_rain.iloc[i, :]) + c_2:\n",
    "        N[0, 0] += 1\n",
    "    else:\n",
    "        N[0, 1] += 1\n",
    "\n",
    "for i in range(df_sunny.shape[0]):\n",
    "    if np.dot(I_1.T, df_sunny.iloc[i, :]) + c_1 >= np.dot(I_2.T, df_sunny.iloc[i, :]) + c_2:\n",
    "        N[1, 0] += 1\n",
    "    else:\n",
    "        N[1, 1] += 1\n",
    "\n",
    "print(N)"
   ]
  },
  {
   "cell_type": "markdown",
   "metadata": {},
   "source": [
    "预测会下雨，回代法$P(2|1)=\\cfrac{3}{10}=0.3，P(1|2)=\\cfrac{1}{10}=0.1$"
   ]
  },
  {
   "cell_type": "markdown",
   "metadata": {},
   "source": [
    "## (2)\n",
    "\n",
    "使用贝叶斯判别\n",
    "\n",
    "原始公式\n",
    "\n",
    "$$\n",
    "P(\\pi_1|x) = \\cfrac{p_1f_1(x)}{\\sum\\limits_{j=1}^{k}p_jf_j(x)}，i=1,2,\\dots,k\n",
    "$$\n",
    "\n",
    "正态分布时，$\\pi_i \\sim N_p(\\mu_{i}, \\Sigma_i)$，$f_i(x)=(2 \\pi)^{-p/2}|\\Sigma_i|^{-1/2}exp[-\\frac{1}{2}d^2(x,\\pi_i)]$，$d^2(x,\\pi_i)=(x-\\mu_i)'\\Sigma_i^{-1}(x-\\mu_i)$，可以得到\n",
    "\n",
    "$$\n",
    "P(\\pi_i|x) = \\cfrac{exp\\left[ -\\frac{1}{2}D^2(x, \\pi_i) \\right]}{\\sum\\limits_{j=1}^{k}exp\\left[ -\\frac{1}{2}D^2(x, \\pi_j) \\right]} \\\\\n",
    "D^2(x,\\pi_i)=d^2(x,\\pi_i)+g_i+h_i \\\\\n",
    "g_i=\\begin{cases}\n",
    "ln|\\Sigma_i| & \\exists i, j \\in k \\enspace s.t. \\enspace \\Sigma_i \\neq \\Sigma_j \\\\\n",
    "0 & \\forall i, j \\in k \\enspace s.t. \\enspace \\Sigma_i = \\Sigma_j\n",
    "\\end{cases}\\\\\n",
    "h_i=\\begin{cases}\n",
    "-2inp_i & \\exists i, j \\in k \\enspace s.t. \\enspace p_i \\neq p_j \\\\\n",
    "0 & \\forall i, j \\in k \\enspace s.t. \\enspace p_i = p_j\n",
    "\\end{cases}\\\\\n",
    "x \\in \\pi_l，D^2(x,\\pi_l)=\\min\\limits_{1 \\leq i \\leq k}D^2(x,\\pi_i)\n",
    "i=1,2,\\dots,k\n",
    "$$\n"
   ]
  },
  {
   "cell_type": "code",
   "execution_count": 2,
   "metadata": {},
   "outputs": [
    {
     "name": "stdout",
     "output_type": "stream",
     "text": [
      "Sunny\n"
     ]
    }
   ],
   "source": [
    "import math\n",
    "D_1 = ((X_0 - mu_1).T @ np.linalg.inv(Sigma_1) @ (X_0 - mu_1) + math.log(np.linalg.det(Sigma_1))).item()\n",
    "D_2 = ((X_0 - mu_2).T @ np.linalg.inv(Sigma_2) @ (X_0 - mu_2) + math.log(np.linalg.det(Sigma_2))).item()\n",
    "sum = math.exp(-1/2 * D_1) + math.exp(-1/2 * D_2)\n",
    "P_1 = math.exp(-1/2 * D_1) / sum\n",
    "P_2 = math.exp(-1/2 * D_2) / sum\n",
    "if P_1 >= P_2:\n",
    "    print(\"Rain\")\n",
    "else: \n",
    "    print(\"Sunny\")"
   ]
  },
  {
   "cell_type": "markdown",
   "metadata": {},
   "source": [
    "得出结果不会下雨\n",
    "\n",
    "## (3)\n",
    "\n",
    "$\\hat{W}(x)=\\hat{a}'(x-\\overline{x})$，$\\hat{a}=S_p'(\\overline{x}_1 - \\overline{x}_2)$，$S_p = \\cfrac{(n_1-1)S_1+(n_2-1)S_2}{n_1+n_2-2}$\n",
    "\n",
    "$ln\\left[ \\cfrac{c(1|2)p_2}{c(2|1)p_1} \\right]=-0.251$"
   ]
  },
  {
   "cell_type": "code",
   "execution_count": 3,
   "metadata": {},
   "outputs": [
    {
     "name": "stdout",
     "output_type": "stream",
     "text": [
      "[[0.46773047]]\n",
      "Rain\n"
     ]
    }
   ],
   "source": [
    "S_p = ((df_rain.shape[0] - 1) * Sigma_1 + (df_sunny.shape[0] - 1) * Sigma_2) / (df_rain.shape[0] + df_sunny.shape[0] - 2)\n",
    "a_hat = np.linalg.inv(S_p) @ (mu_1 - mu_2)\n",
    "W = a_hat.T @ (X_0 - (mu_1 + mu_2) / 2)\n",
    "print(W)\n",
    "if W >= -0.251:\n",
    "    print(\"Rain\")\n",
    "else:\n",
    "    print('Sunny')"
   ]
  },
  {
   "cell_type": "markdown",
   "metadata": {},
   "source": [
    "预测会下雨\n",
    "\n",
    "# 5.6\n",
    "## (1)"
   ]
  },
  {
   "cell_type": "code",
   "execution_count": 4,
   "metadata": {},
   "outputs": [
    {
     "name": "stderr",
     "output_type": "stream",
     "text": [
      "c:\\Users\\Mako\\AppData\\Local\\Programs\\Python\\Python312\\Lib\\site-packages\\openpyxl\\worksheet\\header_footer.py:48: UserWarning: Cannot parse header or footer so it will be ignored\n",
      "  warn(\"\"\"Cannot parse header or footer so it will be ignored\"\"\")\n",
      "c:\\Users\\Mako\\AppData\\Local\\Programs\\Python\\Python312\\Lib\\site-packages\\openpyxl\\worksheet\\header_footer.py:48: UserWarning: Cannot parse header or footer so it will be ignored\n",
      "  warn(\"\"\"Cannot parse header or footer so it will be ignored\"\"\")\n"
     ]
    },
    {
     "data": {
      "text/plain": [
       "(array([1, 1, 1, 1, 1, 1, 1, 2, 2, 1, 2, 2, 1, 2], dtype=int64),\n",
       " array([1, 1, 1, 1, 1, 1, 1, 2, 2, 1, 2, 2, 2, 2], dtype=int64))"
      ]
     },
     "execution_count": 4,
     "metadata": {},
     "output_type": "execute_result"
    }
   ],
   "source": [
    "from sklearn.discriminant_analysis import LinearDiscriminantAnalysis, QuadraticDiscriminantAnalysis\n",
    "exec56 = pd.read_excel('exec5.6.xlsx')\n",
    "exec56a = pd.read_excel('exec5.6a.xlsx')\n",
    "# 特征列\n",
    "features = ['30米跑', '投掷小球', '挺举重量', '抛实心球', '前抛铅球', '五级跳']\n",
    "X_train = exec56[features]\n",
    "y_train = exec56['组别']\n",
    "X_test = exec56a[features]\n",
    "\n",
    "# LDA 拟合与预测\n",
    "lda_model = LinearDiscriminantAnalysis(priors=[0.5, 0.5])\n",
    "lda_model.fit(X_train, y_train)\n",
    "lda_preds = lda_model.predict(X_test)\n",
    "\n",
    "# QDA 拟合与预测\n",
    "qda_model = QuadraticDiscriminantAnalysis(priors=[0.5, 0.5])\n",
    "qda_model.fit(X_train, y_train)\n",
    "qda_preds = qda_model.predict(X_test)\n",
    "\n",
    "lda_preds, qda_preds\n"
   ]
  },
  {
   "cell_type": "markdown",
   "metadata": {},
   "source": [
    "## (2)"
   ]
  },
  {
   "cell_type": "code",
   "execution_count": 5,
   "metadata": {},
   "outputs": [
    {
     "name": "stdout",
     "output_type": "stream",
     "text": [
      "       LDA原始分类_组1  LDA原始分类_组2  LDA交叉验证_组1  LDA交叉验证_组2  QDA原始分类_组1  QDA原始分类_组2  \\\n",
      "预测为组1         1.0         0.0         1.0         0.2         1.0         0.0   \n",
      "预测为组2         0.0         1.0         0.0         0.8         0.0         1.0   \n",
      "\n",
      "       QDA交叉验证_组1  QDA交叉验证_组2  \n",
      "预测为组1         1.0        0.04  \n",
      "预测为组2         0.0        0.96  \n"
     ]
    }
   ],
   "source": [
    "from sklearn.discriminant_analysis import LinearDiscriminantAnalysis, QuadraticDiscriminantAnalysis\n",
    "from sklearn.model_selection import cross_val_predict\n",
    "from sklearn.metrics import confusion_matrix\n",
    "import pandas as pd\n",
    "import numpy as np\n",
    "\n",
    "lda_model = LinearDiscriminantAnalysis(priors=[0.5, 0.5])\n",
    "lda_model.fit(X_train, y_train)\n",
    "lda_preds_train = lda_model.predict(X_train)\n",
    "conf_matrix_lda = confusion_matrix(y_train, lda_preds_train)\n",
    "lda_prop = conf_matrix_lda / conf_matrix_lda.sum(axis=1, keepdims=True)\n",
    "\n",
    "lda_cv_preds = cross_val_predict(LinearDiscriminantAnalysis(priors=[0.5, 0.5]), X_train, y_train, cv=5)\n",
    "conf_matrix_lda_cv = confusion_matrix(y_train, lda_cv_preds)\n",
    "lda_cv_prop = conf_matrix_lda_cv / conf_matrix_lda_cv.sum(axis=1, keepdims=True)\n",
    "\n",
    "qda_model = QuadraticDiscriminantAnalysis(priors=[0.5, 0.5])\n",
    "qda_model.fit(X_train, y_train)\n",
    "qda_preds_train = qda_model.predict(X_train)\n",
    "conf_matrix_qda = confusion_matrix(y_train, qda_preds_train)\n",
    "qda_prop = conf_matrix_qda / conf_matrix_qda.sum(axis=1, keepdims=True)\n",
    "\n",
    "qda_cv_preds = cross_val_predict(QuadraticDiscriminantAnalysis(priors=[0.5, 0.5]), X_train, y_train, cv=5)\n",
    "conf_matrix_qda_cv = confusion_matrix(y_train, qda_cv_preds)\n",
    "qda_cv_prop = conf_matrix_qda_cv / conf_matrix_qda_cv.sum(axis=1, keepdims=True)\n",
    "\n",
    "result_df = pd.DataFrame({\n",
    "    'LDA原始分类_组1': lda_prop[0], 'LDA原始分类_组2': lda_prop[1],\n",
    "    'LDA交叉验证_组1': lda_cv_prop[0], 'LDA交叉验证_组2': lda_cv_prop[1],\n",
    "    'QDA原始分类_组1': qda_prop[0], 'QDA原始分类_组2': qda_prop[1],\n",
    "    'QDA交叉验证_组1': qda_cv_prop[0], 'QDA交叉验证_组2': qda_cv_prop[1]\n",
    "}, index=['预测为组1', '预测为组2'])\n",
    "\n",
    "print(result_df.round(3))\n"
   ]
  },
  {
   "cell_type": "markdown",
   "metadata": {},
   "source": [
    "## (3)"
   ]
  },
  {
   "cell_type": "code",
   "execution_count": 6,
   "metadata": {},
   "outputs": [
    {
     "name": "stdout",
     "output_type": "stream",
     "text": [
      "[1 1 1 1 1 1 1 1 2 1 2 2 1 2]\n"
     ]
    }
   ],
   "source": [
    "# 更改 LDA 先验概率为 0.8 : 0.2\n",
    "lda_model_prior = LinearDiscriminantAnalysis(priors=[0.8, 0.2])\n",
    "lda_model_prior.fit(X_train, y_train)\n",
    "\n",
    "# 对新样品进行预测\n",
    "lda_prior_preds = lda_model_prior.predict(exec56a[features])\n",
    "print(lda_prior_preds)"
   ]
  },
  {
   "cell_type": "markdown",
   "metadata": {},
   "source": [
    "# 5.8\n"
   ]
  },
  {
   "cell_type": "code",
   "execution_count": 9,
   "metadata": {},
   "outputs": [
    {
     "name": "stderr",
     "output_type": "stream",
     "text": [
      "c:\\Users\\Mako\\AppData\\Local\\Programs\\Python\\Python312\\Lib\\site-packages\\openpyxl\\worksheet\\header_footer.py:48: UserWarning: Cannot parse header or footer so it will be ignored\n",
      "  warn(\"\"\"Cannot parse header or footer so it will be ignored\"\"\")\n"
     ]
    },
    {
     "name": "stdout",
     "output_type": "stream",
     "text": [
      "         LD1    LD2\n",
      "卡路里    0.022  0.045\n",
      "蛋白质    0.369 -0.332\n",
      "脂肪    -0.838 -0.386\n",
      "钠     -0.001 -0.006\n",
      "纤维     1.420  1.040\n",
      "碳水化合物  0.202 -0.204\n",
      "糖      0.195 -0.235\n",
      "钾     -0.031 -0.027\n"
     ]
    },
    {
     "data": {
      "image/png": "[encoded data removed]",
      "text/plain": [
       "<Figure size 800x600 with 1 Axes>"
      ]
     },
     "metadata": {},
     "output_type": "display_data"
    }
   ],
   "source": [
    "from sklearn.discriminant_analysis import LinearDiscriminantAnalysis\n",
    "import matplotlib.pyplot as plt\n",
    "\n",
    "# 解决中文显示问题\n",
    "plt.rcParams['font.sans-serif'] = ['SimHei']  # 用于显示中文标签\n",
    "plt.rcParams['axes.unicode_minus'] = False    # 解决负号显示问题\n",
    "\n",
    "data58 = pd.read_excel('exec5.8.xlsx')\n",
    "\n",
    "X = data58.iloc[:, :-1]\n",
    "y = data58.iloc[:, -1]\n",
    "\n",
    "lda = LinearDiscriminantAnalysis(n_components=2)  # 三类最多取2个方向\n",
    "X_lda = lda.fit_transform(X, y)\n",
    "\n",
    "# 原始判别系数\n",
    "coefficients = pd.DataFrame(lda.scalings_, index=X.columns, columns=[\"LD1\", \"LD2\"])\n",
    "print(coefficients.round(3))\n",
    "\n",
    "plt.figure(figsize=(8, 6))\n",
    "for label in sorted(data58['组别'].unique()):\n",
    "    plt.scatter(X_lda[y == label, 0], X_lda[y == label, 1], label=f'组别 {label}')\n",
    "plt.xlabel('判别轴1')\n",
    "plt.ylabel('判别轴2')\n",
    "plt.title('LDA投影散点图')\n",
    "plt.legend()\n",
    "plt.grid(True)\n",
    "plt.tight_layout()\n",
    "plt.show()"
   ]
  }
 ],
 "metadata": {
  "kernelspec": {
   "display_name": "Python 3",
   "language": "python",
   "name": "python3"
  },
  "language_info": {
   "codemirror_mode": {
    "name": "ipython",
    "version": 3
   },
   "file_extension": ".py",
   "mimetype": "text/x-python",
   "name": "python",
   "nbconvert_exporter": "python",
   "pygments_lexer": "ipython3",
   "version": "3.12.5"
  }
 },
 "nbformat": 4,
 "nbformat_minor": 2
}
