{
    "cells": [
        {
            "cell_type": "markdown",
            "id": "58cbc7cb",
            "metadata": {},
            "source": [
                "## t-SNE(t-Distributed Stochastic Neighbor Embedding)降维方法\n",
                "### 一、基本思想\n",
                "\n",
                "t-SNE 的核心思想是：“在低维空间中重建高维空间中的局部邻域结构”。\n",
                "\n",
                "具体而言，它希望：若两个点在高维空间“相似”，则它们在低维空间也要“靠近”；若两个点在高维空间“不相似”，低维中应保持一定距离\n",
                "\n",
                "### 二、理论推导\n",
                "#### 1. 高维空间中的概率分布（相似度）\n",
                "\n",
                "给定高维数据点集$\\{ x_1, x_2, \\dots, x_N \\}$，设定点$x_i$周围是一个高斯分布，以$x_i$为中心，标准差为$\\sigma_i$，点$x_j$是$x_i$邻居的概率可表示为条件概率\n",
                "\n",
                "$$p(j|i) = \\cfrac{exp(-\\frac{||x_i - x_j||^2}{2\\sigma_i^2})}{\\sum_{k \\neq i} exp(-\\frac{||x_i - x_k||^2}{2\\sigma_i^2})}$$\n",
                "\n",
                "距离$x_i$近的点($||x_i - x_j||$小)概率高，远的概率低，所有点概率和为1，如：\n",
                "\n",
                "设有3个点$x_i, x_2, x_3$，$||x_1 - x_2||^2 = 1, ||x_1 - x_3||^2 = 4, \\sigma_1 = 1$，则\n",
                "$$p(2|1)=\\cfrac{e^{-1/2}}{e^{-1/2} + e^{-4/2}} \\approx 0.8176$$\n",
                "\n",
                "$x_2$是$x_1$概率是$81.73\\%$，远大于$x_3$"
            ]
        }
    ],
    "metadata": {
        "kernelspec": {
            "display_name": "Python 3",
            "language": "python",
            "name": "python3"
        },
        "language_info": {
            "name": "python",
            "version": "3.12.5"
        }
    },
    "nbformat": 4,
    "nbformat_minor": 5
}