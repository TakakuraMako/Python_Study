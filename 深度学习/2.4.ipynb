{
 "cells": [
  {
   "cell_type": "markdown",
   "id": "74e25af4",
   "metadata": {},
   "source": [
    "### 2.4\n",
    "\n",
    "假设$Y$与$X_1,X_2$之间满足线性回归关系\n",
    "$$\n",
    "y_1=\\beta_0+\\beta_1x_{i1}+\\beta_2x_{i2}+\\epsilon_i,i=1,2,3,\\dots,15\n",
    "$$\n",
    "其中$\\epsilon_i \\sim N(0,\\sigma^2)$且独立同分布"
   ]
  },
  {
   "cell_type": "code",
   "execution_count": 26,
   "id": "61037702",
   "metadata": {},
   "outputs": [],
   "source": [
    "import numpy as np\n",
    "import pandas as pd\n",
    "data = pd.DataFrame({\n",
    "    '销量': [162, 120, 223, 131, 67, 169, 81, 192, 116, 55, 252, 232, 144, 103, 212],\n",
    "    '人数': [274, 180, 375, 205, 86, 265, 98, 330, 195, 53, 430, 372, 236, 157, 370],\n",
    "    '收入': [2450, 3254, 3802, 2838, 2347, 3782, 3008, 2450, 2137, 2560, 4020, 4427, 2660, 2088, 2605]}\n",
    ")\n"
   ]
  },
  {
   "cell_type": "markdown",
   "id": "e86f12a5",
   "metadata": {},
   "source": [
    "#### (1)求回归系数$\\beta_0,\\beta_1,\\beta_2$的最小二乘估计和误差方差$\\sigma^2$的估计，写出回归方程并对回归系数作解释\n",
    "\n",
    "已知\n",
    "$$\n",
    "\\hat{\\beta} = (\\hat{\\beta}_0, \\hat{\\beta}_1, \\dots, \\hat{\\beta}_{p-1})^T=(X^TX)^{-1}X^TY \\\\\n",
    "\\hat{\\sigma^2}=\\cfrac{SSE}{n-p}=\\frac{1}{n-p}Y^T(I-H)Y \\\\\n",
    "H=X(X^TX)^{-1}X^T\n",
    "$$"
   ]
  },
  {
   "cell_type": "code",
   "execution_count": 27,
   "id": "063fe045",
   "metadata": {},
   "outputs": [
    {
     "name": "stdout",
     "output_type": "stream",
     "text": [
      "[3.45261279 0.49600498 0.00919908]\n",
      "4.740297129881294\n"
     ]
    }
   ],
   "source": [
    "X = data[['人数', '收入']].values\n",
    "# X加上一个全是1的列\n",
    "X_wide = np.hstack((np.ones((X.shape[0], 1)), X))\n",
    "Y = data['销量'].values\n",
    "H = X_wide @ np.linalg.inv(X_wide.T @ X_wide) @ X_wide.T\n",
    "beta_hat = np.linalg.inv(X_wide.T @ X_wide) @ X_wide.T @ Y\n",
    "I = np.eye(H.shape[0])\n",
    "sigma_2_hat = Y.T @ (I - H) @ Y / (X_wide.shape[0] - X_wide.shape[1])\n",
    "print(beta_hat)\n",
    "print(sigma_2_hat)"
   ]
  },
  {
   "cell_type": "markdown",
   "id": "003ee828",
   "metadata": {},
   "source": [
    "$\\hat{y}=3.453+0.496x_1+0.009x_2$\n",
    "\n",
    "$\\beta_0$截距项：在“人数”和“收入”都为 0 的情况下的“销量”预测值，虽然没有现实意义，但对模型是必要的\n",
    "\n",
    "$\\beta_1$：“人数”每增加 1 单位，其他条件不变时，“销量”预计增加$\\beta_1$个单位\n",
    "\n",
    "$\\beta_2$：“收入”每增加 1 单位，其他条件不变时，“销量”预计增加$\\beta_2$个单位"
   ]
  },
  {
   "cell_type": "markdown",
   "id": "22d43680",
   "metadata": {},
   "source": [
    "#### (2)求出方差分析表，解释对线性回归关系显著性检验结果，求复相关系数平方$R^2$的值并解释其意义\n",
    "\n",
    "$$\n",
    "\\begin{array}{|c|c|c|c|c|c|}\n",
    "\\hline\n",
    "\\text{方差来源} & \\text{自由度} & \\text{平方和 (SS)} & \\text{均方 (MS)} & \\text{F 值} & \\text{p 值} \\\\\n",
    "\\hline\n",
    "\\text{回归 (R)} & p - 1 & SSR & MSR=\\cfrac{SSR}{p - 1} & F_0=\\cfrac{MSR}{MSE} & p_0 \\\\\n",
    "\\hline\n",
    "\\text{误差 (E)} & n - p & SSE & MSE=\\cfrac{SSE}{n - p} &  &  \\\\\n",
    "\\hline\n",
    "\\text{总和 (T)} & n - 1 & SST &  &  &  \\\\\n",
    "\\hline\n",
    "\\end{array}\n",
    "$$\n",
    "\n",
    "$$\n",
    "SST=Y^T(I-\\frac{1}{n}J)Y=\\sum_{i=1}^{n}(y_i - \\bar{y})^2 \\\\\n",
    "SSR=Y^T(H-\\frac{1}{n}J)Y=\\sum_{i=1}^{n}(\\hat{y}_i - \\bar{y})^2 \\\\\n",
    "SSE=Y^T(I-H)Y=\\sum_{i=1}^{n}(y_i - \\hat{y}_i)^2 \\\\\n",
    "SST=SSE+SSR \\\\\n",
    "MSR=\\frac{SSR}{p-1} \\\\\n",
    "MSE=\\frac{SSE}{n-p} \\\\\n",
    "R^2=\\cfrac{SSR}{SST}=1-\\cfrac{SSE}{SST},R=\\sqrt{R^2} \\\\\n",
    "p_0=P(F(p-1,n-p) \\geq F_0)\n",
    "$$"
   ]
  },
  {
   "cell_type": "code",
   "execution_count": 28,
   "id": "2020582d",
   "metadata": {},
   "outputs": [
    {
     "name": "stdout",
     "output_type": "stream",
     "text": [
      "SST: 53901.6\n",
      "SSR: 53844.716434440685\n",
      "SSE: 56.883565559127966\n",
      "R^2: 0.9989446776058722\n",
      "MSR: 26922.358217220342\n",
      "MSE: 4.74029712992733\n",
      "F: 5679.466387718415\n",
      "p-value: 1.1102230246251565e-16\n"
     ]
    }
   ],
   "source": [
    "SST = np.sum((Y - np.mean(Y)) ** 2)\n",
    "SSR = np.sum((H @ Y - np.mean(Y)) ** 2)\n",
    "SSE = np.sum((Y - H @ Y) ** 2)\n",
    "R_2 = SSR / SST\n",
    "MSR = SSR / (X_wide.shape[1] - 1)\n",
    "MSE = SSE / (X_wide.shape[0] - X_wide.shape[1])\n",
    "F = MSR / MSE\n",
    "# 假设检验p值\n",
    "from scipy.stats import f\n",
    "p_value = 1 - f.cdf(F, X_wide.shape[1] - 1, X_wide.shape[0] - X_wide.shape[1])\n",
    "# 全部输出\n",
    "print('SST:', SST)\n",
    "print('SSR:', SSR)\n",
    "print('SSE:', SSE)\n",
    "print('R^2:', R_2)\n",
    "print('MSR:', MSR)\n",
    "print('MSE:', MSE)\n",
    "print('F:', F)\n",
    "print('p-value:', p_value)"
   ]
  },
  {
   "cell_type": "markdown",
   "id": "1f87d780",
   "metadata": {},
   "source": [
    "$p$值很小，认为线性回归关系显著.\n",
    "\n",
    "模型的复相关系数平方（决定系数）为$R^2$=0.998，表示模型能够解释99.8%的销量变异，说明模型拟合效果较好，变量“人数”和“收入”能很好地解释销量的变动。\n",
    "\n",
    "#### 分别求分别求出$\\beta_1$和$\\beta_2$的95%置信区间\n",
    "\n",
    "$$\n",
    "H_{0k}:\\beta_k=0 \\space H_{1k}:\\beta_k \\neq 0 \\\\\n",
    "\\cfrac{\\hat{\\beta}_k - \\beta_k}{\\sigma \\sqrt{c_{kk}}} \\sim N(0,1) \\\\\n",
    "t_k = \\cfrac{\\hat{\\beta}_k - \\beta_k}{\\hat{\\sigma} \\sqrt{c_{kk}}} \\sim t(n-p) \\\\\n",
    "\\hat{\\sigma} \\sqrt{c_{kk}} = s(\\hat{\\sigma}_k) \\\\\n",
    "\\hat{\\beta_k} \\pm t_{1-\\frac{\\alpha}{2}}(n-p)s(\\hat{\\sigma}_k)\n",
    "$$"
   ]
  },
  {
   "cell_type": "code",
   "execution_count": 31,
   "id": "1ac24a9f",
   "metadata": {},
   "outputs": [
    {
     "name": "stdout",
     "output_type": "stream",
     "text": [
      "β₀ 的95%置信区间为：[-1.8433, 8.7485]\n",
      "β₁（人数） 的95%置信区间为：[0.4828, 0.5092]\n",
      "β₂（收入） 的95%置信区间为：[0.0071, 0.0113]\n"
     ]
    }
   ],
   "source": [
    "from scipy.stats import t\n",
    "cov_beta = sigma_2_hat * np.linalg.inv(X_wide.T @ X_wide)\n",
    "standard_errors = np.sqrt(np.diag(cov_beta))\n",
    "n, p = X_wide.shape\n",
    "t_value = t.ppf(0.975, df=n - p)\n",
    "for i, name in enumerate(['β₀', 'β₁（人数）', 'β₂（收入）']):\n",
    "    lower = beta_hat[i] - t_value * standard_errors[i]\n",
    "    upper = beta_hat[i] + t_value * standard_errors[i]\n",
    "    print(f\"{name} 的95%置信区间为：[{lower:.4f}, {upper:.4f}]\")"
   ]
  },
  {
   "cell_type": "markdown",
   "id": "18a52eca",
   "metadata": {},
   "source": [
    "#### "
   ]
  },
  {
   "cell_type": "code",
   "execution_count": null,
   "id": "b77e37d7",
   "metadata": {},
   "outputs": [
    {
     "name": "stdout",
     "output_type": "stream",
     "text": [
      "                            OLS Regression Results                            \n",
      "==============================================================================\n",
      "Dep. Variable:                     销量   R-squared:                       0.999\n",
      "Model:                            OLS   Adj. R-squared:                  0.999\n",
      "Method:                 Least Squares   F-statistic:                     5679.\n",
      "Date:                Wed, 09 Apr 2025   Prob (F-statistic):           1.38e-18\n",
      "Time:                        21:25:20   Log-Likelihood:                -31.281\n",
      "No. Observations:                  15   AIC:                             68.56\n",
      "Df Residuals:                      12   BIC:                             70.69\n",
      "Df Model:                           2                                         \n",
      "Covariance Type:            nonrobust                                         \n",
      "==============================================================================\n",
      "                 coef    std err          t      P>|t|      [0.025      0.975]\n",
      "------------------------------------------------------------------------------\n",
      "const          3.4526      2.431      1.420      0.181      -1.843       8.749\n",
      "人数             0.4960      0.006     81.924      0.000       0.483       0.509\n",
      "收入             0.0092      0.001      9.502      0.000       0.007       0.011\n",
      "==============================================================================\n",
      "Omnibus:                        0.227   Durbin-Watson:                   2.701\n",
      "Prob(Omnibus):                  0.893   Jarque-Bera (JB):                0.412\n",
      "Skew:                          -0.115   Prob(JB):                        0.814\n",
      "Kurtosis:                       2.221   Cond. No.                     1.32e+04\n",
      "==============================================================================\n",
      "\n",
      "Notes:\n",
      "[1] Standard Errors assume that the covariance matrix of the errors is correctly specified.\n",
      "[2] The condition number is large, 1.32e+04. This might indicate that there are\n",
      "strong multicollinearity or other numerical problems.\n",
      "回归方程：y = 3.45 + 0.4960 * x1 + 0.0092 * x2\n"
     ]
    },
    {
     "name": "stderr",
     "output_type": "stream",
     "text": [
      "c:\\Users\\Mako\\AppData\\Local\\Programs\\Python\\Python312\\Lib\\site-packages\\scipy\\stats\\_axis_nan_policy.py:531: UserWarning: kurtosistest only valid for n>=20 ... continuing anyway, n=15\n",
      "  res = hypotest_fun_out(*samples, **kwds)\n"
     ]
    }
   ],
   "source": [
    "import statsmodels.api as sm\n",
    "\n",
    "X_new = data[['人数', '收入']]\n",
    "X_new = sm.add_constant(X_new)  # 自动加上全1列\n",
    "Y_new = data['销量']\n",
    "\n",
    "model = sm.OLS(Y_new, X_new).fit()\n",
    "\n",
    "print(model.summary())\n",
    "beta = model.params\n",
    "print(f\"回归方程：y = {beta['const']:.2f} + {beta['人数']:.4f} * x1 + {beta['收入']:.4f} * x2\")\n"
   ]
  }
 ],
 "metadata": {
  "kernelspec": {
   "display_name": "Python 3",
   "language": "python",
   "name": "python3"
  },
  "language_info": {
   "codemirror_mode": {
    "name": "ipython",
    "version": 3
   },
   "file_extension": ".py",
   "mimetype": "text/x-python",
   "name": "python",
   "nbconvert_exporter": "python",
   "pygments_lexer": "ipython3",
   "version": "3.12.5"
  }
 },
 "nbformat": 4,
 "nbformat_minor": 5
}
