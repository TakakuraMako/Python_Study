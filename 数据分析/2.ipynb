{
 "cells": [
  {
   "cell_type": "markdown",
   "metadata": {},
   "source": [
    "## 1.5\n",
    "$\\mu=\\left[\\begin{matrix}\n",
    "\\overline{x_1} \\\\\n",
    "\\overline{x_2} \\\\\n",
    "\\overline{x_3} \\\\\n",
    "\\overline{x_4}\n",
    "\\end{matrix}\\right]\n",
    "$    $\\overline{x_i}=\\sum^{4}_{j=1}x_{ij}$\n",
    "\n",
    "计算得$\\mu=\\left[\\begin{matrix}\n",
    "18.22 \\\\\n",
    "27.87 \\\\\n",
    "4.5 \\\\\n",
    "33.77 \n",
    "\\end{matrix}\\right]$\n",
    "\n",
    "$cov=\\frac{1}{n}\\sum^{n}_{i=1}(x_i-\\mu_x)(y_i-\\mu_y)$\n",
    "\n",
    "$\\Sigma=\\left[\\begin{matrix}\n",
    " 3.51 & 2.71 & 1.02 & 1.27 \\\\\n",
    " 2.71 & 3.56 & 1.14 & 1.29 \\\\\n",
    " 1.02 & 1.14 & 2.00 & 1.74 \\\\\n",
    " 1.27 & 1.29 & 1.74 & 4.03 \\\\\n",
    "\\end{matrix}\\right]$\n",
    "\n",
    "## 1.7\n",
    "### (1)计算观测数据均值向量$\\overline{x}$和中位数向量$M$\n",
    "\n",
    "$ \\overline{x} = \\left[ \\begin{matrix}14.41 \\\\ 16.02 \\\\ 4.23 \\end{matrix} \\right] $\n",
    "$M = \\left[ \\begin{matrix}15.0 \\\\ 15.0 \\\\ 4.0 \\end{matrix} \\right] $\n",
    "\n",
    "### (2)计算观测数据的Pearson相关矩阵R，Spearman相关矩阵Q及各元素对应的检验p值，并做相关性的显著性检验\n",
    "\n",
    "\n"
   ]
  },
  {
   "cell_type": "code",
   "execution_count": 7,
   "metadata": {},
   "outputs": [
    {
     "name": "stdout",
     "output_type": "stream",
     "text": [
      "          x_1       x_2       x_3\n",
      "x_1  1.000000  0.619302  0.519517\n",
      "x_2  0.619302  1.000000  0.461495\n",
      "x_3  0.519517  0.461495  1.000000\n",
      "          x_1       x_2       x_3\n",
      "x_1  1.000000  0.545509  0.506685\n",
      "x_2  0.545509  1.000000  0.529510\n",
      "x_3  0.506685  0.529510  1.000000\n"
     ]
    }
   ],
   "source": [
    "import numpy as np\n",
    "import pandas as pd\n",
    "data = pd.DataFrame({\n",
    "    'x_1': [9.0, 8.5, 13.0, 10.0, 7.0, 15.5, 22.5, 5.5, 25.0, 15.0, \n",
    "            12.5, 17.0, 16.0, 20.0, 12.0, 22.0, 17.0, 16.0, 21.0, 13.0, \n",
    "            21.0, 21.0, 13.5, 5.0, 16.0, 14.5, 10.0, 11.0, 10.5, 15.0,\n",
    "            9.0, 23.0, 14.0, 16.0, 16.5, 16.0, 12.0, 9.0, 12.0, 5.0, \n",
    "            17.0, 16.0, 17.5, 11.5, 4.0, 17.5, 9.5, 26.0, 15.0, 19.0],\n",
    "    'x_2': [12.0, 15.0, 19.0, 7.0, 13.0, 28.5, 20.0, 8.5, 35.0, 19.0, \n",
    "            20.0, 19.5, 17.5, 20.0, 17.0, 20.0, 28.0, 18.0, 27.5, 14.0, \n",
    "            13.0, 6.0, 6.5, 7.5, 20.0, 14.5, 23.0, 13.0, 12.0, 15.5,\n",
    "            12.5, 24.0, 21.0, 11.0, 17.0, 15.0, 15.5, 4.0, 6.0, 14.0,\n",
    "            15.0, 11.0, 18.0, 15.0, 3.0, 15.0, 11.5, 38.0, 13.0, 12.0],\n",
    "    'x_3': [3.0, 3.0, 3.0, 4.0, 2.5, 5.0, 4.5, 3.0, 6.5, 4.0,\n",
    "            3.0, 5.0, 6.0, 7.5, 4.0, 6.0, 5.5, 3.0, 6.0, 4.0, \n",
    "            9.0, 3.5, 3.5, 3.5, 5.5, 4.0, 6.0, 6.0, 3.5, 3.0, \n",
    "            5.0, 6.5, 6.5, 3.0, 4.0, 3.0, 3.5, 2.0, 5.0, 3.0,\n",
    "            4.5, 3.0, 3.0, 3.0, 2.0, 4.5, 2.5, 4.0, 4.5, 3.0],\n",
    "})\n",
    "print(data.corr(method='pearson'))\n",
    "print(data.corr(method='spearman'))"
   ]
  },
  {
   "cell_type": "markdown",
   "metadata": {},
   "source": [
    "$ R =  \\left[ \\begin{matrix}1.00 & 0.62 & 0.52 \\\\ 0.62 & 1.00 & 0.46 \\\\ 0.52 & 0.46 & 1.00  \\end{matrix} \\right] $\n",
    "\n",
    "$Q =  \\left[ \\begin{matrix}1.00 & 0.55 & 0.51 \\\\ 0.55 & 1.00 & 0.53 \\\\ 0.51 & 0.53 & 1.00 \\\\ \\end{matrix} \\right] $\n",
    "\n",
    "显著性检验\n",
    "\n",
    "皮尔逊常用t检验：$t=r\\sqrt{\\frac{n-2}{1-r^2}}$\n",
    "\n",
    "斯皮尔曼：$r_s=1-\\cfrac{6\\sum^{n}_{i=1}d_{i}^{2}}{n(n^2-1)}$  对于大样本$r_s\\sqrt{n-1} \\sim N(0,1)$"
   ]
  },
  {
   "cell_type": "code",
   "execution_count": 8,
   "metadata": {},
   "outputs": [
    {
     "name": "stdout",
     "output_type": "stream",
     "text": [
      "皮尔逊\n",
      "p值: 0.000002\n",
      "p值: 0.000111\n",
      "p值: 0.000743\n",
      "斯皮尔曼\n",
      "p值: 0.000042\n",
      "p值: 0.000174\n",
      "p值: 0.000077\n"
     ]
    }
   ],
   "source": [
    "import scipy.stats as stats\n",
    "print('皮尔逊')\n",
    "for i in range(data.shape[1]):\n",
    "    for j in range(i+1, data.shape[1]):\n",
    "        correlation_coefficient, p_value = stats.pearsonr(data.iloc[:, i], data.iloc[:, j])  # 计算相关系数和p值\n",
    "        print(f\"p值: {p_value:2f}\")\n",
    "\n",
    "print('斯皮尔曼')\n",
    "for i in range(data.shape[1]):\n",
    "    for j in range(i+1, data.shape[1]):\n",
    "        correlation_coefficient, p_value = stats.spearmanr(data.iloc[:, i], data.iloc[:, j])  # 计算相关系数和p值\n",
    "        print(f\"p值: {p_value:2f}\")"
   ]
  },
  {
   "cell_type": "markdown",
   "metadata": {},
   "source": [
    "p值均很小，相关性显著"
   ]
  }
 ],
 "metadata": {
  "kernelspec": {
   "display_name": "Python 3",
   "language": "python",
   "name": "python3"
  },
  "language_info": {
   "codemirror_mode": {
    "name": "ipython",
    "version": 3
   },
   "file_extension": ".py",
   "mimetype": "text/x-python",
   "name": "python",
   "nbconvert_exporter": "python",
   "pygments_lexer": "ipython3",
   "version": "3.12.2"
  }
 },
 "nbformat": 4,
 "nbformat_minor": 2
}
