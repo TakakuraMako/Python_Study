{
 "cells": [
  {
   "cell_type": "markdown",
   "id": "74e25af4",
   "metadata": {},
   "source": [
    "### 2.4\n",
    "\n",
    "假设$Y$与$X_1,X_2$之间满足线性回归关系\n",
    "$$\n",
    "y_1=\\beta_0+\\beta_1x_{i1}+\\beta_2x_{i2}+\\epsilon_i,i=1,2,3,\\dots,15\n",
    "$$\n",
    "其中$\\epsilon_i \\sim N(0,\\sigma^2)$且独立同分布"
   ]
  },
  {
   "cell_type": "code",
   "execution_count": 13,
   "id": "61037702",
   "metadata": {},
   "outputs": [],
   "source": [
    "import numpy as np\n",
    "import pandas as pd\n",
    "data = pd.DataFrame({\n",
    "    '销量': [162, 120, 223, 131, 67, 169, 81, 192, 116, 55, 252, 232, 144, 103, 212],\n",
    "    '人数': [274, 180, 375, 205, 86, 265, 98, 330, 195, 53, 430, 372, 236, 157, 370],\n",
    "    '收入': [2450, 3254, 3802, 2838, 2347, 3782, 3008, 2450, 2137, 2560, 4020, 4427, 2660, 2088, 2605]}\n",
    ")\n"
   ]
  },
  {
   "cell_type": "markdown",
   "id": "e86f12a5",
   "metadata": {},
   "source": [
    "#### (1)求回归系数$\\beta_0,\\beta_1,\\beta_2$的最小二乘估计和误差方差$\\sigma^2$的估计，写出回归方程并对回归系数作解释\n",
    "\n",
    "已知\n",
    "$$\n",
    "\\hat{\\beta} = (\\hat{\\beta}_0, \\hat{\\beta}_1, \\dots, \\hat{\\beta}_{p-1})^T=(X^TX)^{-1}X^TY \\\\\n",
    "\\hat{\\sigma^2}=\\cfrac{SSE}{n-p}=\\frac{1}{n-p}Y^T(I-H)Y \\\\\n",
    "H=X(X^TX)^{-1}X^T\n",
    "$$"
   ]
  },
  {
   "cell_type": "code",
   "execution_count": 14,
   "id": "063fe045",
   "metadata": {},
   "outputs": [
    {
     "name": "stdout",
     "output_type": "stream",
     "text": [
      "[3.45261279 0.49600498 0.00919908]\n",
      "4.740297129881294\n"
     ]
    }
   ],
   "source": [
    "X = data[['人数', '收入']].values\n",
    "# X加上一个全是1的列\n",
    "X_wide = np.hstack((np.ones((X.shape[0], 1)), X))\n",
    "Y = data['销量'].values\n",
    "H = X_wide @ np.linalg.inv(X_wide.T @ X_wide) @ X_wide.T\n",
    "beta_hat = np.linalg.inv(X_wide.T @ X_wide) @ X_wide.T @ Y\n",
    "I = np.eye(H.shape[0])\n",
    "sigma_2_hat = Y.T @ (I - H) @ Y / (X_wide.shape[0] - X_wide.shape[1])\n",
    "print(beta_hat)\n",
    "print(sigma_2_hat)"
   ]
  },
  {
   "cell_type": "markdown",
   "id": "003ee828",
   "metadata": {},
   "source": [
    "$\\hat{y}=3.453+0.496x_1+0.009x_2$\n",
    "\n",
    "$\\beta_0$截距项：在“人数”和“收入”都为 0 的情况下的“销量”预测值，虽然没有现实意义，但对模型是必要的\n",
    "\n",
    "$\\beta_1$：“人数”每增加 1 单位，其他条件不变时，“销量”预计增加$\\beta_1$个单位\n",
    "\n",
    "$\\beta_2$：“收入”每增加 1 单位，其他条件不变时，“销量”预计增加$\\beta_2$个单位"
   ]
  },
  {
   "cell_type": "markdown",
   "id": "22d43680",
   "metadata": {},
   "source": [
    "#### (2)求出方差分析表，解释对线性回归关系显著性检验结果，求复相关系数平方$R^2$的值并解释其意义\n",
    "\n",
    "$$\n",
    "\\begin{array}{|c|c|c|c|c|c|}\n",
    "\\hline\n",
    "\\text{方差来源} & \\text{自由度} & \\text{平方和 (SS)} & \\text{均方 (MS)} & \\text{F 值} & \\text{p 值} \\\\\n",
    "\\hline\n",
    "\\text{回归 (R)} & p - 1 & SSR & MSR=\\cfrac{SSR}{p - 1} & F_0=\\cfrac{MSR}{MSE} & p_0 \\\\\n",
    "\\hline\n",
    "\\text{误差 (E)} & n - p & SSE & MSE=\\cfrac{SSE}{n - p} &  &  \\\\\n",
    "\\hline\n",
    "\\text{总和 (T)} & n - 1 & SST &  &  &  \\\\\n",
    "\\hline\n",
    "\\end{array}\n",
    "$$\n",
    "\n",
    "$$\n",
    "SST=Y^T(I-\\frac{1}{n}J)Y=\\sum_{i=1}^{n}(y_i - \\bar{y})^2 \\\\\n",
    "SSR=Y^T(H-\\frac{1}{n}J)Y=\\sum_{i=1}^{n}(\\hat{y}_i - \\bar{y})^2 \\\\\n",
    "SSE=Y^T(I-H)Y=\\sum_{i=1}^{n}(y_i - \\hat{y}_i)^2 \\\\\n",
    "SST=SSE+SSR \\\\\n",
    "MSR=\\frac{SSR}{p-1} \\\\\n",
    "MSE=\\frac{SSE}{n-p} \\\\\n",
    "R^2=\\cfrac{SSR}{SST}=1-\\cfrac{SSE}{SST},R=\\sqrt{R^2} \\\\\n",
    "p_0=P(F(p-1,n-p) \\geq F_0)\n",
    "$$"
   ]
  },
  {
   "cell_type": "code",
   "execution_count": 15,
   "id": "2020582d",
   "metadata": {},
   "outputs": [
    {
     "name": "stdout",
     "output_type": "stream",
     "text": [
      "SST: 53901.6\n",
      "SSR: 53844.716434440685\n",
      "SSE: 56.883565559127966\n",
      "R^2: 0.9989446776058722\n",
      "MSR: 26922.358217220342\n",
      "MSE: 4.74029712992733\n",
      "F: 5679.466387718415\n",
      "p-value: 1.1102230246251565e-16\n"
     ]
    }
   ],
   "source": [
    "SST = np.sum((Y - np.mean(Y)) ** 2)\n",
    "SSR = np.sum((H @ Y - np.mean(Y)) ** 2)\n",
    "SSE = np.sum((Y - H @ Y) ** 2)\n",
    "R_2 = SSR / SST\n",
    "MSR = SSR / (X_wide.shape[1] - 1)\n",
    "MSE = SSE / (X_wide.shape[0] - X_wide.shape[1])\n",
    "F = MSR / MSE\n",
    "# 假设检验p值\n",
    "from scipy.stats import f\n",
    "p_value = 1 - f.cdf(F, X_wide.shape[1] - 1, X_wide.shape[0] - X_wide.shape[1])\n",
    "# 全部输出\n",
    "print('SST:', SST)\n",
    "print('SSR:', SSR)\n",
    "print('SSE:', SSE)\n",
    "print('R^2:', R_2)\n",
    "print('MSR:', MSR)\n",
    "print('MSE:', MSE)\n",
    "print('F:', F)\n",
    "print('p-value:', p_value)"
   ]
  },
  {
   "cell_type": "markdown",
   "id": "1f87d780",
   "metadata": {},
   "source": [
    "$p$值很小，认为线性回归关系显著.\n",
    "\n",
    "模型的复相关系数平方（决定系数）为$R^2$=0.998，表示模型能够解释99.8%的销量变异，说明模型拟合效果较好，变量“人数”和“收入”能很好地解释销量的变动。\n",
    "\n",
    "#### (3)分别求分别求出$\\beta_1$和$\\beta_2$的95%置信区间\n",
    "\n",
    "$$\n",
    "\\cfrac{\\hat{\\beta}_k - \\beta_k}{\\sigma \\sqrt{c_{kk}}} \\sim N(0,1) \\\\\n",
    "t_k = \\cfrac{\\hat{\\beta}_k - \\beta_k}{\\hat{\\sigma} \\sqrt{c_{kk}}} \\sim t(n-p) \\\\\n",
    "\\hat{\\sigma} \\sqrt{c_{kk}} = s(\\hat{\\sigma}_k) \\\\\n",
    "\\hat{\\beta_k} \\pm t_{1-\\frac{\\alpha}{2}}(n-p)s(\\hat{\\sigma}_k)\n",
    "$$"
   ]
  },
  {
   "cell_type": "code",
   "execution_count": 16,
   "id": "1ac24a9f",
   "metadata": {},
   "outputs": [
    {
     "name": "stdout",
     "output_type": "stream",
     "text": [
      "β₀ 的95%置信区间为：[-1.8433, 8.7485]\n",
      "β₁（人数） 的95%置信区间为：[0.4828, 0.5092]\n",
      "β₂（收入） 的95%置信区间为：[0.0071, 0.0113]\n"
     ]
    }
   ],
   "source": [
    "from scipy.stats import t\n",
    "cov_beta = sigma_2_hat * np.linalg.inv(X_wide.T @ X_wide)\n",
    "standard_errors = np.sqrt(np.diag(cov_beta))\n",
    "n, p = X_wide.shape\n",
    "t_value = t.ppf(0.975, df=n - p)\n",
    "for i, name in enumerate(['β₀', 'β₁（人数）', 'β₂（收入）']):\n",
    "    lower = beta_hat[i] - t_value * standard_errors[i]\n",
    "    upper = beta_hat[i] + t_value * standard_errors[i]\n",
    "    print(f\"{name} 的95%置信区间为：[{lower:.4f}, {upper:.4f}]\")"
   ]
  },
  {
   "cell_type": "markdown",
   "id": "18a52eca",
   "metadata": {},
   "source": [
    "#### (4)对$\\alpha=0.05$，分别检验人数$X_1$和$X_2$对销量$Y$的影响是否显著，利用与回归系数有关的一般假设检验方法检验$X_1$和$X_2$的交互作用(即$X_1X_2$)对$Y$的影响是否显著\n",
    "\n",
    "$$\n",
    "Y = \\beta_0 + \\beta_1 X_1 + \\beta_2 X_2 + \\beta_3 X_1 X_2 + \\varepsilon\n",
    "$$\n",
    "\n",
    "其中，$\\varepsilon \\sim N(0, \\sigma^2)$，$X_1$ 表示“人数”，$X_2$ 表示“收入”，$X_1X_2$ 为交互项。\n",
    "\n",
    "我们构造扩展设计矩阵 $X \\in \\mathbb{R}^{n \\times 4}$，每行的形式为：\n",
    "\n",
    "$$X_i = \\begin{bmatrix} 1 & x_{i1} & x_{i2} & x_{i1}x_{i2} \\end{bmatrix}$$\n",
    "\n",
    "回归系数的最小二乘估计为：\n",
    "\n",
    "$$\\hat{\\beta} = (X^T X)^{-1} X^T Y$$\n",
    "\n",
    "残差为：\n",
    "\n",
    "$$\\varepsilon = Y - \\hat{Y} = Y - X \\hat{\\beta}$$\n",
    "\n",
    "残差平方和（SSE）为：\n",
    "\n",
    "$$SSE = \\sum_{i=1}^{n}(y_i - \\hat{y}_i)^2 = \\varepsilon^T \\varepsilon$$\n",
    "\n",
    "误差方差的估计值为：\n",
    "\n",
    "$$\\hat{\\sigma}^2 = \\frac{SSE}{n - p}$$\n",
    "\n",
    "回归系数的协方差矩阵估计为：\n",
    "\n",
    "$$\\text{Cov}(\\hat{\\beta}) = \\hat{\\sigma}^2 (X^T X)^{-1}$$\n",
    "\n",
    "第 $k$ 个回归系数的标准误差为：\n",
    "\n",
    "$$SE(\\hat{\\beta}_k) = \\sqrt{[\\text{Cov}(\\hat{\\beta})]_{kk}}$$\n",
    "\n",
    "对每个回归系数进行假设检验：\n",
    "\n",
    "$$H_{0k}:\\beta_k = 0 \\quad \\text{vs} \\quad H_{1k}:\\beta_k \\ne 0$$\n",
    "\n",
    "检验统计量为：\n",
    "\n",
    "$$t_k = \\frac{\\hat{\\beta}_k}{SE(\\hat{\\beta}_k)} \\sim t(n - p)$$\n",
    "\n",
    "计算双尾 $p$ 值：\n",
    "\n",
    "$$p_{0k} = 2P(t(n - p) > |t_k|)$$\n",
    "\n",
    "给定显著性水平 $\\alpha = 0.05$，比较 $|t_k|$ 与临界值 $t_{0.975}(n - p)$：\n",
    "\n",
    "$$\\text{若 } |t_k| > t_{0.975}(n - p) \\Rightarrow \\text{拒绝 } H_{0k} \\Rightarrow \\text{变量显著}$$\n",
    "\n",
    "我们分别对 $\\beta_1$（人数）、$\\beta_2$（收入）以及 $\\beta_3$（交互项）进行上述检验，以判断它们对销量的显著性影响。\n"
   ]
  },
  {
   "cell_type": "code",
   "execution_count": 17,
   "id": "c63c9513",
   "metadata": {},
   "outputs": [
    {
     "name": "stdout",
     "output_type": "stream",
     "text": [
      "β₀: t = 0.5740, p = 0.5775, α = 0.05 → 不显著\n",
      "β₁（人数）: t = 17.3435, p = 0.0000, α = 0.05 → 显著\n",
      "β₂（收入）: t = 2.7766, p = 0.0180, α = 0.05 → 显著\n",
      "β₃（交互项）: t = 0.1777, p = 0.8622, α = 0.05 → 不显著\n"
     ]
    }
   ],
   "source": [
    "# 添加交互项：X3 = 人数 * 收入\n",
    "X1 = data['人数'].values\n",
    "X2 = data['收入'].values\n",
    "X3 = X1 * X2\n",
    "X_ext = np.column_stack((np.ones(len(X1)), X1, X2, X3))  # 添加常数项\n",
    "\n",
    "Y = data['销量'].values.reshape(-1, 1)\n",
    "\n",
    "# 重新计算 beta_hat\n",
    "XtX_inv_ext = np.linalg.inv(X_ext.T @ X_ext)\n",
    "beta_hat_ext = XtX_inv_ext @ X_ext.T @ Y\n",
    "\n",
    "# 残差与 sigma2\n",
    "Y_hat_ext = X_ext @ beta_hat_ext\n",
    "residuals_ext = Y - Y_hat_ext\n",
    "n_ext, p_ext = X_ext.shape\n",
    "SSE_ext = (residuals_ext.T @ residuals_ext).item()\n",
    "sigma2_ext = SSE_ext / (n_ext - p_ext)\n",
    "\n",
    "# 协方差矩阵\n",
    "cov_beta_ext = sigma2_ext * XtX_inv_ext\n",
    "standard_errors_ext = np.sqrt(np.diag(cov_beta_ext))\n",
    "\n",
    "# t 值与双尾 p 值\n",
    "from scipy.stats import t\n",
    "t_critical_ext = t.ppf(0.975, df=n_ext - p_ext)\n",
    "\n",
    "for i, name in enumerate(['β₀', 'β₁（人数）', 'β₂（收入）', 'β₃（交互项）']):\n",
    "    t_k = beta_hat_ext[i][0] / standard_errors_ext[i]\n",
    "    p_val = 2 * (1 - t.cdf(np.abs(t_k), df=n_ext - p_ext))\n",
    "    result = \"显著\" if np.abs(t_k) > t_critical_ext else \"不显著\"\n",
    "    print(f\"{name}: t = {t_k:.4f}, p = {p_val:.4f}, α = 0.05 → {result}\")\n"
   ]
  },
  {
   "cell_type": "markdown",
   "id": "ad7db478",
   "metadata": {},
   "source": [
    "#### (5)该公司欲在一个适宜使用该化妆品的人数$x_{01}=200$，人均月收入$X_{02}=2500$的新的城市中销售该化妆品，求七销量的预测值及其置信度为$95%$的置信区间\n",
    "\n",
    "设新城市中适宜使用该化妆品的人数为 $x_{01} = 200$，人均月收入为 $x_{02} = 2500$，将该点代入前述回归模型：\n",
    "\n",
    "$$\\hat{y}_0 = x_0^T \\hat{\\beta} = \\hat{\\beta}_0 + \\hat{\\beta}_1 \\cdot 200 + \\hat{\\beta}_2 \\cdot 2500$$\n",
    "\n",
    "\n",
    "其置信度为 $95\\%$ 的预测区间为：\n",
    "\n",
    "$$\\hat{y}_0 \\pm t_{n-p}^{(0.975)} \\cdot \\sqrt{\\hat{\\sigma}^2 \\cdot x_0^T (X^T X)^{-1} x_0}$$\n"
   ]
  },
  {
   "cell_type": "code",
   "execution_count": 18,
   "id": "f5639c63",
   "metadata": {},
   "outputs": [
    {
     "name": "stdout",
     "output_type": "stream",
     "text": [
      "预测销量为：125.6513\n",
      "95%置信区间为：[124.1876, 127.1151]\n"
     ]
    }
   ],
   "source": [
    "# 新城市变量\n",
    "x0 = np.array([1, 200, 2500]).reshape(1, -1)  # 加入常数项\n",
    "\n",
    "# 预测值\n",
    "y0_hat = x0 @ beta_hat.reshape(-1, 1)\n",
    "\n",
    "# 标准误差项\n",
    "x_cov = x0 @ np.linalg.inv(X_wide.T @ X_wide) @ x0.T\n",
    "se_y0 = np.sqrt(sigma_2_hat * x_cov[0][0])\n",
    "\n",
    "# t 临界值\n",
    "t_critical = t.ppf(0.975, df=X_wide.shape[0] - X_wide.shape[1])\n",
    "\n",
    "# 区间计算\n",
    "lower = y0_hat[0][0] - t_critical * se_y0\n",
    "upper = y0_hat[0][0] + t_critical * se_y0\n",
    "\n",
    "print(f\"预测销量为：{y0_hat[0][0]:.4f}\")\n",
    "print(f\"95%置信区间为：[{lower:.4f}, {upper:.4f}]\")\n"
   ]
  }
 ],
 "metadata": {
  "kernelspec": {
   "display_name": "Python 3",
   "language": "python",
   "name": "python3"
  },
  "language_info": {
   "codemirror_mode": {
    "name": "ipython",
    "version": 3
   },
   "file_extension": ".py",
   "mimetype": "text/x-python",
   "name": "python",
   "nbconvert_exporter": "python",
   "pygments_lexer": "ipython3",
   "version": "3.12.5"
  }
 },
 "nbformat": 4,
 "nbformat_minor": 5
}
