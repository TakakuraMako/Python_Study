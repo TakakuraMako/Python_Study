{
 "cells": [
  {
   "cell_type": "markdown",
   "metadata": {},
   "source": [
    "### 1.3\n",
    "#### (1) 计算均值、方差、标准差、变异系数、偏度、峰度\n",
    "均值 $ \\overline{x}=\\cfrac{1}{n} \\displaystyle \\sum_{i=1}^{n}x_i= $\n",
    "\n",
    "方差 $ S^2=\\cfrac{1}{n-1}\\displaystyle \\sum_{i=1}^{n}(x_i-\\overline{x})^2= $\n",
    "\n",
    "标准差 $ S = \\sqrt{S^2}= $\n",
    "\n",
    "变异系数 $ CV = \\cfrac{S}{\\overline{x}} \\times 100\\%= $\n",
    "\n",
    "$k$ 阶中心矩 $ \\mu_k = \\cfrac{1}{n}(x-\\overline{x})^k $ \n",
    "\n",
    "偏度 $ G_3 = \\cfrac{\\mu_3}{\\sigma^3}= $\n",
    "\n",
    "峰度 $ G_4 = \\cfrac{\\mu_4}{\\sigma^4}= $"
   ]
  },
  {
   "cell_type": "code",
   "execution_count": null,
   "metadata": {},
   "outputs": [
    {
     "name": "stdout",
     "output_type": "stream",
     "text": [
      "139.0 49.898305084745765 7.063873235325346\n"
     ]
    }
   ],
   "source": [
    "import numpy as np\n",
    "import pandas as pd \n",
    "data = pd.DataFrame([[184, 207, 236, 262, 284, 311, 354, 437, 485, 550, 693, 762, 803, 896, 1070, 1331, 1746, 2336, 2641, 2834, 2972, 3180]])\n",
    "\n",
    "x_mean = data.mean()\n",
    "S_2 = np.var(data, ddof=1)\n",
    "S = np.std(data, ddof=1)\n",
    "print(x_mean, S_2, S)"
   ]
  }
 ],
 "metadata": {
  "kernelspec": {
   "display_name": "Python 3",
   "language": "python",
   "name": "python3"
  },
  "language_info": {
   "codemirror_mode": {
    "name": "ipython",
    "version": 3
   },
   "file_extension": ".py",
   "mimetype": "text/x-python",
   "name": "python",
   "nbconvert_exporter": "python",
   "pygments_lexer": "ipython3",
   "version": "3.12.2"
  }
 },
 "nbformat": 4,
 "nbformat_minor": 2
}
