{
 "cells": [
  {
   "cell_type": "markdown",
   "id": "e67cb096",
   "metadata": {},
   "source": [
    "### 3.4\n",
    "\n",
    "考察四种不同催化剂对某一化工产品得率影响，在四种不同催化剂下分别做了6次试验，得数据。\n",
    "\n",
    "假定各种催化剂下产品的得率服从同方差正态分布，试在$\\alpha=0.05$下，检验四种不同催化剂对该化工产品的得率有无显著影响。"
   ]
  },
  {
   "cell_type": "code",
   "execution_count": 4,
   "id": "2a92e6fd",
   "metadata": {},
   "outputs": [],
   "source": [
    "import pandas as pd\n",
    "import numpy as np\n",
    "data = pd.DataFrame({\n",
    "    'A1' : [0.88, 0.85, 0.79, 0.86, 0.85, 0.83],\n",
    "    'A2' : [0.87, 0.92, 0.85, 0.83, 0.90, 0.80],\n",
    "    'A3' : [0.84, 0.78, 0.81, 0.80, 0.85, 0.83],\n",
    "    'A4' : [0.81, 0.86, 0.90, 0.87, 0.78, 0.79]\n",
    "})"
   ]
  },
  {
   "cell_type": "markdown",
   "id": "f3b48710",
   "metadata": {},
   "source": [
    "$$\n",
    "H_0:\\mu_1=\\mu_2=\\mu_3=\\mu_4, \\space H_1:\\exist j \\neq i,s.t. \\space \\mu_i \\neq \\mu_j \\\\\n",
    "MSE = SSE/(N-k) \\\\\n",
    "SSE = \\sum^{k}_{i=1}\\sum^{n_i}_{j=1}(x_{ij} - \\overline{x}_i)^2\n",
    "$$"
   ]
  }
 ],
 "metadata": {
  "kernelspec": {
   "display_name": "Python 3",
   "language": "python",
   "name": "python3"
  },
  "language_info": {
   "codemirror_mode": {
    "name": "ipython",
    "version": 3
   },
   "file_extension": ".py",
   "mimetype": "text/x-python",
   "name": "python",
   "nbconvert_exporter": "python",
   "pygments_lexer": "ipython3",
   "version": "3.12.2"
  }
 },
 "nbformat": 4,
 "nbformat_minor": 5
}
