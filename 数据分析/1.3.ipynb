{
 "cells": [
  {
   "cell_type": "markdown",
   "metadata": {},
   "source": [
    "### 1.3\n",
    "#### (1) 计算均值、方差、标准差、变异系数、偏度、峰度\n",
    "均值 $ \\overline{x}=\\cfrac{1}{n} \\displaystyle \\sum_{i=1}^{n}x_i $\n",
    "\n",
    "方差 $ S^2=\\cfrac{1}{n-1}\\displaystyle \\sum_{i=1}^{n}(x_i-\\overline{x})^2 $\n",
    "\n",
    "标准差 $ S = \\sqrt{S^2} $\n",
    "\n",
    "变异系数 $ CV = \\cfrac{S}{\\overline{x}} \\times 100\\% $\n",
    "\n",
    "$k$ 阶中心矩 $ \\mu_k = \\cfrac{1}{n}(x-\\overline{x})^k $ \n",
    "\n",
    "偏度 $ G_3 = \\cfrac{\\mu_3}{\\sigma^3} $\n",
    "\n",
    "峰度 $ G_4 = \\cfrac{\\mu_4}{\\sigma^4} $"
   ]
  },
  {
   "cell_type": "code",
   "execution_count": null,
   "metadata": {},
   "outputs": [
    {
     "name": "stdout",
     "output_type": "stream",
     "text": [
      "均值:\n",
      "全国居民    1117.00\n",
      "农村居民     747.86\n",
      "城镇居民    2336.41\n",
      "dtype: float64\n",
      "方差:\n",
      "全国居民    1031680.29\n",
      "农村居民     399673.84\n",
      "城镇居民    4536136.44\n",
      "dtype: float64\n",
      "标准差:\n",
      "全国居民    1015.72\n",
      "农村居民     632.20\n",
      "城镇居民    2129.82\n",
      "dtype: float64\n",
      "变异系数:\n",
      "全国居民    1.10\n",
      "农村居民    1.18\n",
      "城镇居民    1.10\n",
      "dtype: float64\n",
      "偏度:\n",
      "全国居民    1.02\n",
      "农村居民    1.01\n",
      "城镇居民    0.97\n",
      "dtype: float64\n",
      "峰度:\n",
      "全国居民   -0.46\n",
      "农村居民   -0.45\n",
      "城镇居民   -0.57\n",
      "dtype: float64\n"
     ]
    }
   ],
   "source": [
    "import numpy as np\n",
    "import pandas as pd \n",
    "\n",
    "data = pd.DataFrame(np.array([[184, 207, 236, 262, 284, 311, 354, 437, 485, 550, 693, 762, 803, 896, 1070, 1331, 1746, 2336, 2641, 2834, 2972, 3180],\n",
    "                     [138, 158, 178, 199, 221, 246, 283, 347, 376, 417, 508, 553, 571, 621, 718, 855, 1118, 1434, 1768, 1876, 1895, 1973],\n",
    "                     [405, 434, 496, 562, 576, 603, 662, 802, 920, 1089, 1431, 1568, 1686, 1925, 2356, 3027, 3891, 4874, 5430, 5796, 6217, 6651]]).T, index=range(1978, 2000), columns=['全国居民', '农村居民', '城镇居民'])\n",
    "\n",
    "x_mean = round(data.mean(), 2)\n",
    "S_2 = round(np.var(data, ddof=1, axis=0), 2)\n",
    "S = round(np.std(data, ddof=1, axis=0), 2)\n",
    "CV = round(x_mean / S, 2)\n",
    "G3 = round(data.skew(), 2)\n",
    "G4 = round(data.kurt(), 2)\n",
    "print('均值:\\n{}\\n方差:\\n{}\\n标准差:\\n{}\\n变异系数:\\n{}\\n偏度:\\n{}\\n峰度:\\n{}'.format(x_mean, S_2, S, CV, G3, G4))"
   ]
  },
  {
   "cell_type": "markdown",
   "metadata": {},
   "source": [
    "#### (1) 计算中位数、上下四分位数、四分位极差、三均值\n",
    "中位数\n",
    "$$\n",
    "M=\\begin{cases}\n",
    "x_{(\\frac{n+1}{2})} & n为奇数 \\\\\n",
    "\\frac{1}{2}(x_{(\\frac{n}{2})}+x_{(\\frac{n}{2}+1)}) & n为偶数\n",
    "\\end{cases}\n",
    "$$\n",
    "\n",
    "分位数\n",
    "$$\n",
    "M_p=\n",
    "\\begin{cases}\n",
    "x_{([np]+1)} & np非整数 \\\\\n",
    "\\frac{1}{2}(x_{(np)}+x_{(np+1)}) & np为整数\n",
    "\\end{cases}\n",
    "$$\n",
    "\n",
    "四分位极差 $IQR=Q_3-Q_1$\n",
    "\n",
    "三均值 $TM=\\cfrac{1}{4}Q_1 + \\cfrac{1}{2}M + \\cfrac{1}{4}Q_3$"
   ]
  },
  {
   "cell_type": "code",
   "execution_count": 14,
   "metadata": {},
   "outputs": [
    {
     "name": "stdout",
     "output_type": "stream",
     "text": [
      "中位数\n",
      "全国居民     727.5\n",
      "农村居民     530.5\n",
      "城镇居民    1499.5\n",
      "dtype: float64\n",
      "上四分位数\n",
      "全国居民    321.75\n",
      "农村居民    255.25\n",
      "城镇居民    617.75\n",
      "Name: 0.25, dtype: float64\n",
      "下四分位数\n",
      "全国居民    1642.25\n",
      "农村居民    1052.25\n",
      "城镇居民    3675.00\n",
      "Name: 0.75, dtype: float64\n",
      "四分位极差\n",
      "全国居民    1320.50\n",
      "农村居民     797.00\n",
      "城镇居民    3057.25\n",
      "dtype: float64\n",
      "三均值\n",
      "全国居民     854.7500\n",
      "农村居民     592.1250\n",
      "城镇居民    1822.9375\n",
      "dtype: float64\n",
      "\n"
     ]
    }
   ],
   "source": [
    "M = data.median()\n",
    "Q1 = data.quantile(0.25)\n",
    "Q3 = data.quantile(0.75)\n",
    "IQR = Q3 - Q1\n",
    "TM = 1/4*Q1 + 1/2*M + 1/4*Q3\n",
    "print('中位数\\n{}\\n上四分位数\\n{}\\n下四分位数\\n{}\\n四分位极差\\n{}\\n三均值\\n{}\\n'.format(M, Q1, Q3, IQR, TM))"
   ]
  },
  {
   "cell_type": "markdown",
   "metadata": {},
   "source": [
    "### 1.4\n",
    "#### (1) 计算均值、方差、标准差、变异系数、偏度、峰度"
   ]
  }
 ],
 "metadata": {
  "kernelspec": {
   "display_name": "Python 3",
   "language": "python",
   "name": "python3"
  },
  "language_info": {
   "codemirror_mode": {
    "name": "ipython",
    "version": 3
   },
   "file_extension": ".py",
   "mimetype": "text/x-python",
   "name": "python",
   "nbconvert_exporter": "python",
   "pygments_lexer": "ipython3",
   "version": "3.12.2"
  }
 },
 "nbformat": 4,
 "nbformat_minor": 2
}
