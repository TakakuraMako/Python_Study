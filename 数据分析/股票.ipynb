{
 "cells": [
  {
   "cell_type": "markdown",
   "metadata": {},
   "source": [
    "# 沪深指数变化\n",
    "\n",
    "## 数据来源\n",
    "\n",
    "中证指数网站的沪深300数据 [https://www.csindex.com.cn/#/indices/family/detail?indexCode=000300]\n"
   ]
  },
  {
   "cell_type": "code",
   "execution_count": 7,
   "metadata": {},
   "outputs": [
    {
     "name": "stdout",
     "output_type": "stream",
     "text": [
      "     日期Date   开盘Open   最高High    最低Low  收盘Close\n",
      "0  20250225  3933.64  3955.43  3915.65  3925.65\n",
      "1  20250226  3931.84  3960.33  3925.37  3959.94\n",
      "2  20250227  3961.06  3973.93  3933.46  3968.12\n",
      "3  20250228  3950.19  3972.48  3886.40  3890.05\n",
      "4  20250303  3899.70  3930.00  3872.59  3888.47\n"
     ]
    }
   ],
   "source": [
    "import numpy as np\n",
    "import pandas as pd\n",
    "import matplotlib.pyplot as plt\n",
    "# 解决中文显示问题\n",
    "plt.rcParams['font.sans-serif'] = ['SimHei']  # 用于显示中文标签\n",
    "plt.rcParams['axes.unicode_minus'] = False    # 解决负号显示问题\n",
    "data = pd.read_excel('./沪深.xlsx')\n",
    "print(data.head())\n",
    "data.set_index('日期Date', inplace=True)"
   ]
  },
  {
   "cell_type": "markdown",
   "metadata": {},
   "source": [
    "数据分别是日期、开盘和收盘价、最高最低价\n",
    "\n",
    "## 计算数据特征"
   ]
  },
  {
   "cell_type": "code",
   "execution_count": 8,
   "metadata": {},
   "outputs": [
    {
     "name": "stdout",
     "output_type": "stream",
     "text": [
      "均值：\n",
      " 开盘Open     3944.292632\n",
      "最高High     3967.225263\n",
      "最低Low      3921.253158\n",
      "收盘Close    3944.222632\n",
      "dtype: float64\n",
      "方差：\n",
      " 开盘Open     1955.306332\n",
      "最高High     1471.133582\n",
      "最低Low      1667.019012\n",
      "收盘Close    1723.070776\n",
      "dtype: float64\n",
      "中位数：\n",
      " 开盘Open     3944.91\n",
      "最高High     3964.49\n",
      "最低Low      3917.08\n",
      "收盘Close    3941.42\n",
      "dtype: float64\n",
      "偏度：\n",
      " 开盘Open     0.250475\n",
      "最高High    -0.110994\n",
      "最低Low      0.577130\n",
      "收盘Close    0.254575\n",
      "dtype: float64\n",
      "峰度：\n",
      " 开盘Open    -0.544377\n",
      "最高High    -0.459528\n",
      "最低Low     -0.367614\n",
      "收盘Close   -1.096092\n",
      "dtype: float64\n"
     ]
    }
   ],
   "source": [
    "# 均值、方差、中位数、偏度、峰度\n",
    "mean = data.mean()\n",
    "var = data.var()\n",
    "median = data.median()\n",
    "skew = data.skew()\n",
    "kurt = data.kurt()\n",
    "print('均值：\\n', mean)\n",
    "print('方差：\\n', var)\n",
    "print('中位数：\\n', median)\n",
    "print('偏度：\\n', skew)\n",
    "print('峰度：\\n', kurt)"
   ]
  },
  {
   "cell_type": "markdown",
   "metadata": {},
   "source": [
    "### 分析\n",
    "#### 均值\n",
    "\n",
    "开盘价和收盘价的均值与中位数非常接近（3944.29和3944.91；3944.22和3941.42），表明价格分布相对对称，未出现显著偏移。\n",
    "\n",
    "最高价均值（3967.23）略高于中位数（3964.49），结合负偏度（-0.11），暗示少量交易日出现异常高值，但整体波动有限。\n",
    "\n",
    "最低价均值（3921.25）高于中位数（3917.08），且偏度为正（0.58），表明存在右偏分布，部分交易日最低价显著低于平均水平。\n",
    "\n",
    "#### 方差\n",
    "\n",
    "开盘价方差最大（1955.31），表明开盘时市场受隔夜信息、情绪等因素影响显著，价格波动剧烈。\n",
    "\n",
    "收盘价方差次之（1723.07），反映尾盘交易中多空力量博弈可能加剧，但整体稳定性优于开盘。\n",
    "\n",
    "最高价方差最小（1471.13），说明日内价格上限相对稳定，或受限于交易机制（如涨停板）导致波动受限。\n",
    "\n",
    "#### 偏度与峰度\n",
    "\n",
    "开盘、最低、收盘价均呈现正偏态（偏度>0），表明价格分布右侧（高价区域）存在长尾，少量交易日出现异常高价。\n",
    "\n",
    "最高价呈现轻微负偏态（偏度-0.11），说明高价区域波动有限，偶有低于均值的极端值。\n",
    "\n",
    "所有价格指标的峰度均为负值（-0.54至-1.10），表明分布比正态分布更平坦，数据分散性较强，极端值出现的概率较低。\n",
    "\n",
    "收盘价峰度最低（-1.10），说明其价格波动相对分散，可能受尾盘流动性或消息面影响较大。"
   ]
  }
 ],
 "metadata": {
  "kernelspec": {
   "display_name": "Python 3",
   "language": "python",
   "name": "python3"
  },
  "language_info": {
   "codemirror_mode": {
    "name": "ipython",
    "version": 3
   },
   "file_extension": ".py",
   "mimetype": "text/x-python",
   "name": "python",
   "nbconvert_exporter": "python",
   "pygments_lexer": "ipython3",
   "version": "3.12.2"
  }
 },
 "nbformat": 4,
 "nbformat_minor": 2
}
